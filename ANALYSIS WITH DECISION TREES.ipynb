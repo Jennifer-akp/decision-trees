{
 "cells": [
  {
   "cell_type": "markdown",
   "metadata": {},
   "source": [
    "### IMPORT LIBRARIES"
   ]
  },
  {
   "cell_type": "code",
   "execution_count": 1,
   "metadata": {},
   "outputs": [],
   "source": [
    "import numpy as np\n",
    "import pandas as pd\n",
    "from sklearn.model_selection import train_test_split\n",
    "import matplotlib.pyplot as plt\n",
    "from sklearn.metrics import confusion_matrix\n",
    "from sklearn.tree import DecisionTreeClassifier, plot_tree\n",
    "\n"
   ]
  },
  {
   "cell_type": "code",
   "execution_count": 2,
   "metadata": {},
   "outputs": [
    {
     "data": {
      "text/html": [
       "<div>\n",
       "<style scoped>\n",
       "    .dataframe tbody tr th:only-of-type {\n",
       "        vertical-align: middle;\n",
       "    }\n",
       "\n",
       "    .dataframe tbody tr th {\n",
       "        vertical-align: top;\n",
       "    }\n",
       "\n",
       "    .dataframe thead th {\n",
       "        text-align: right;\n",
       "    }\n",
       "</style>\n",
       "<table border=\"1\" class=\"dataframe\">\n",
       "  <thead>\n",
       "    <tr style=\"text-align: right;\">\n",
       "      <th></th>\n",
       "      <th>age</th>\n",
       "      <th>sex</th>\n",
       "      <th>cp</th>\n",
       "      <th>trestbps</th>\n",
       "      <th>chol</th>\n",
       "      <th>fbs</th>\n",
       "      <th>restecg</th>\n",
       "      <th>thalach</th>\n",
       "      <th>exang</th>\n",
       "      <th>oldpeak</th>\n",
       "      <th>slope</th>\n",
       "      <th>ca</th>\n",
       "      <th>thal</th>\n",
       "      <th>target</th>\n",
       "    </tr>\n",
       "  </thead>\n",
       "  <tbody>\n",
       "    <tr>\n",
       "      <th>0</th>\n",
       "      <td>63</td>\n",
       "      <td>1</td>\n",
       "      <td>3</td>\n",
       "      <td>145</td>\n",
       "      <td>233</td>\n",
       "      <td>1</td>\n",
       "      <td>0</td>\n",
       "      <td>150</td>\n",
       "      <td>0</td>\n",
       "      <td>2.3</td>\n",
       "      <td>0</td>\n",
       "      <td>0</td>\n",
       "      <td>1</td>\n",
       "      <td>1</td>\n",
       "    </tr>\n",
       "    <tr>\n",
       "      <th>1</th>\n",
       "      <td>37</td>\n",
       "      <td>1</td>\n",
       "      <td>2</td>\n",
       "      <td>130</td>\n",
       "      <td>250</td>\n",
       "      <td>0</td>\n",
       "      <td>1</td>\n",
       "      <td>187</td>\n",
       "      <td>0</td>\n",
       "      <td>3.5</td>\n",
       "      <td>0</td>\n",
       "      <td>0</td>\n",
       "      <td>2</td>\n",
       "      <td>1</td>\n",
       "    </tr>\n",
       "    <tr>\n",
       "      <th>2</th>\n",
       "      <td>41</td>\n",
       "      <td>0</td>\n",
       "      <td>1</td>\n",
       "      <td>130</td>\n",
       "      <td>204</td>\n",
       "      <td>0</td>\n",
       "      <td>0</td>\n",
       "      <td>172</td>\n",
       "      <td>0</td>\n",
       "      <td>1.4</td>\n",
       "      <td>2</td>\n",
       "      <td>0</td>\n",
       "      <td>2</td>\n",
       "      <td>1</td>\n",
       "    </tr>\n",
       "    <tr>\n",
       "      <th>3</th>\n",
       "      <td>56</td>\n",
       "      <td>1</td>\n",
       "      <td>1</td>\n",
       "      <td>120</td>\n",
       "      <td>236</td>\n",
       "      <td>0</td>\n",
       "      <td>1</td>\n",
       "      <td>178</td>\n",
       "      <td>0</td>\n",
       "      <td>0.8</td>\n",
       "      <td>2</td>\n",
       "      <td>0</td>\n",
       "      <td>2</td>\n",
       "      <td>1</td>\n",
       "    </tr>\n",
       "    <tr>\n",
       "      <th>4</th>\n",
       "      <td>57</td>\n",
       "      <td>0</td>\n",
       "      <td>0</td>\n",
       "      <td>120</td>\n",
       "      <td>354</td>\n",
       "      <td>0</td>\n",
       "      <td>1</td>\n",
       "      <td>163</td>\n",
       "      <td>1</td>\n",
       "      <td>0.6</td>\n",
       "      <td>2</td>\n",
       "      <td>0</td>\n",
       "      <td>2</td>\n",
       "      <td>1</td>\n",
       "    </tr>\n",
       "  </tbody>\n",
       "</table>\n",
       "</div>"
      ],
      "text/plain": [
       "   age  sex  cp  trestbps  chol  fbs  restecg  thalach  exang  oldpeak  slope  \\\n",
       "0   63    1   3       145   233    1        0      150      0      2.3      0   \n",
       "1   37    1   2       130   250    0        1      187      0      3.5      0   \n",
       "2   41    0   1       130   204    0        0      172      0      1.4      2   \n",
       "3   56    1   1       120   236    0        1      178      0      0.8      2   \n",
       "4   57    0   0       120   354    0        1      163      1      0.6      2   \n",
       "\n",
       "   ca  thal  target  \n",
       "0   0     1       1  \n",
       "1   0     2       1  \n",
       "2   0     2       1  \n",
       "3   0     2       1  \n",
       "4   0     2       1  "
      ]
     },
     "metadata": {},
     "output_type": "display_data"
    },
    {
     "name": "stdout",
     "output_type": "stream",
     "text": [
      "(296, 14)\n",
      "__________________________________________________\n",
      "X = features\n"
     ]
    },
    {
     "data": {
      "text/plain": [
       "array([[ 63. ,   1. ,   3. , 145. , 233. ,   1. ,   0. , 150. ,   0. ,\n",
       "          2.3,   0. ,   0. ,   1. ],\n",
       "       [ 37. ,   1. ,   2. , 130. , 250. ,   0. ,   1. , 187. ,   0. ,\n",
       "          3.5,   0. ,   0. ,   2. ],\n",
       "       [ 41. ,   0. ,   1. , 130. , 204. ,   0. ,   0. , 172. ,   0. ,\n",
       "          1.4,   2. ,   0. ,   2. ],\n",
       "       [ 56. ,   1. ,   1. , 120. , 236. ,   0. ,   1. , 178. ,   0. ,\n",
       "          0.8,   2. ,   0. ,   2. ],\n",
       "       [ 57. ,   0. ,   0. , 120. , 354. ,   0. ,   1. , 163. ,   1. ,\n",
       "          0.6,   2. ,   0. ,   2. ]])"
      ]
     },
     "metadata": {},
     "output_type": "display_data"
    },
    {
     "name": "stdout",
     "output_type": "stream",
     "text": [
      "__________________________________________________\n",
      "y = target\n"
     ]
    },
    {
     "data": {
      "text/plain": [
       "array([1., 1., 1., 1., 1.])"
      ]
     },
     "metadata": {},
     "output_type": "display_data"
    },
    {
     "name": "stdout",
     "output_type": "stream",
     "text": [
      "train set:(236, 13)\n",
      "\n",
      "test set:(60, 13)\n"
     ]
    }
   ],
   "source": [
    "\n",
    "##read data from csv file\n",
    "df1 = pd.read_csv('./Desktop/Dataset/heart.csv')\n",
    "\n",
    "display (df1.head())\n",
    "\n",
    "##removes nan and incorrect data\n",
    "d = df1 ['ca'] != 4\n",
    "df1 = df1[d]\n",
    "df1 = df1[df1['thal'] != 0]\n",
    "print(df1.shape)\n",
    "\n",
    "##convert pandas to numpy (array)\n",
    "df = df1.to_numpy()\n",
    "\n",
    "## Split the data into inputs (X) and output (Y)\n",
    "X = df[:, :13] \n",
    "Y = df[:, -1]   \n",
    "\n",
    "print ('_'*50)\n",
    "print ('X = features')\n",
    "display (X [0:5])\n",
    "print ('_'*50)\n",
    "print ('y = target')\n",
    "display (Y [0:5])\n",
    "\n",
    "\n",
    "##split X and Y into train and test set\n",
    "\n",
    "X_train, X_test, y_train, y_test = train_test_split(X, Y, test_size=0.2, random_state=0)\n",
    "\n",
    "print ( 'train set:' +str (X_train.shape) +'\\n' '\\n'+  'test set:' +str(X_test.shape))"
   ]
  },
  {
   "cell_type": "markdown",
   "metadata": {},
   "source": [
    "### Implement the Decision Tree classifier."
   ]
  },
  {
   "cell_type": "code",
   "execution_count": 3,
   "metadata": {},
   "outputs": [],
   "source": [
    "from sklearn import tree\n",
    "clf = tree.DecisionTreeClassifier(criterion = 'entropy', max_depth=3, random_state=0) # criterion='entropy', defaults to gini with no argument\n",
    "clf = clf.fit(X_train, y_train)"
   ]
  },
  {
   "cell_type": "code",
   "execution_count": 4,
   "metadata": {},
   "outputs": [
    {
     "name": "stdout",
     "output_type": "stream",
     "text": [
      "trained tree\n",
      "[0.         0.         0.26047873 0.         0.         0.\n",
      " 0.         0.05001901 0.         0.13885182 0.         0.36712805\n",
      " 0.18352238]\n"
     ]
    }
   ],
   "source": [
    "print('trained tree')\n",
    "print(clf.feature_importances_)"
   ]
  },
  {
   "cell_type": "code",
   "execution_count": 5,
   "metadata": {},
   "outputs": [
    {
     "name": "stdout",
     "output_type": "stream",
     "text": [
      "predicting the classes for each test sample\n",
      "[0. 0. 1. 0. 0. 1. 0. 1. 0. 1. 1. 1. 1. 1. 1. 0. 0. 0. 1. 0. 1. 1. 1. 0.\n",
      " 0. 1. 1. 0. 1. 0. 1. 0. 1. 1. 0. 1. 1. 1. 1. 1. 0. 1. 0. 1. 1. 0. 1. 0.\n",
      " 1. 1. 0. 0. 1. 1. 0. 0. 0. 0. 1. 0.]\n",
      "true classes\n",
      "[0. 0. 1. 0. 0. 1. 0. 1. 0. 1. 0. 1. 1. 0. 1. 0. 0. 0. 1. 1. 1. 0. 1. 0.\n",
      " 0. 0. 1. 0. 0. 0. 1. 0. 1. 1. 1. 0. 1. 1. 1. 1. 0. 1. 0. 1. 1. 0. 1. 0.\n",
      " 1. 1. 0. 0. 1. 0. 1. 0. 0. 0. 0. 0.]\n",
      "prediction probability [[1. 0.]]\n",
      "[ 64.    1.    0.  120.  246.    0.    0.   96.    1.    2.2   0.    1.\n",
      "   2. ]\n",
      "Number of mislabeled points out of a total 60 points : 11\n"
     ]
    }
   ],
   "source": [
    "#predict the test cases\n",
    "\n",
    "##predicting with the x_test\n",
    "print('predicting the classes for each test sample')\n",
    "y_pred = clf.predict(X_test)\n",
    "print(y_pred)\n",
    "print('true classes')\n",
    "print(y_test)\n",
    "\n",
    "##prediction probability\n",
    "pred_prob = clf.predict_proba(X_test[1].reshape(1,-1))\n",
    "print('prediction probability', pred_prob)\n",
    "print(X_test[1])\n",
    "\n",
    "##number of mislabelled points\n",
    "print(\"Number of mislabeled points out of a total %d points : %d\"\n",
    "      % (y_test.shape[0],(y_test != y_pred).sum()))"
   ]
  },
  {
   "cell_type": "markdown",
   "metadata": {},
   "source": [
    "### Visualize the learned decision tree"
   ]
  },
  {
   "cell_type": "code",
   "execution_count": 6,
   "metadata": {
    "scrolled": true
   },
   "outputs": [
    {
     "data": {
      "image/png": "[encoded data removed]",
      "text/plain": [
       "<Figure size 432x288 with 1 Axes>"
      ]
     },
     "metadata": {
      "needs_background": "light"
     },
     "output_type": "display_data"
    }
   ],
   "source": [
    "##Plotting the Tree using plt.show, resolution is poor\n",
    "c_names = {0:'Heart Disease Absent', 1:'Heart Disease Present'}\n",
    "tree.plot_tree(clf, filled=True, class_names=c_names)\n",
    "plt.show()"
   ]
  },
  {
   "cell_type": "code",
   "execution_count": 7,
   "metadata": {},
   "outputs": [
    {
     "data": {
      "text/plain": [
       "'heart_tree.pdf'"
      ]
     },
     "execution_count": 7,
     "metadata": {},
     "output_type": "execute_result"
    }
   ],
   "source": [
    "#Plotting the Tree using graphviz and rendering to pdf OR png. resolution is much better\n",
    "\n",
    "##create dictionary for the features\n",
    "feature_names={0:'age',1:'gender',2:'cp',3:'rbp',4:'chol',5:'fbs',6:'recg',7:'hr',8:'ang',9:'st',\n",
    "               10:'peak',11:'vessels',12:'thal'} \n",
    "\n",
    "##create dictionary for class names\n",
    "c_names={0: 'Healthy Patient', 1: 'Heart Disease Patient'} \n",
    "\n",
    "##used for better visualization of tree\n",
    "import graphviz \n",
    "dot_data = tree.export_graphviz(clf, out_file=None, feature_names=feature_names, class_names=c_names) \n",
    "graph = graphviz.Source(dot_data) \n",
    "\n",
    "\n",
    "##display(graph) ##to display on jupyter\n",
    "graph.render(\"heart_tree\", view ='true', format = 'pdf') ##change format to png to render on png\n",
    "\n"
   ]
  },
  {
   "cell_type": "markdown",
   "metadata": {},
   "source": [
    "###  Draw or screenshot the tree for d=3 and d=5 and write down the path."
   ]
  },
  {
   "cell_type": "code",
   "execution_count": 8,
   "metadata": {},
   "outputs": [
    {
     "data": {
      "text/plain": [
       "'heart_tree with maximum depht=3.pdf'"
      ]
     },
     "execution_count": 8,
     "metadata": {},
     "output_type": "execute_result"
    }
   ],
   "source": [
    "##For maximum depth = 3\n",
    "\n",
    "clf3 = tree.DecisionTreeClassifier(criterion = 'gini', max_depth=3, random_state=0) \n",
    "clf3 = clf3.fit(X_train, y_train)\n",
    "dot_data3 = tree.export_graphviz(clf3, out_file=None, feature_names=feature_names, class_names=c_names,\n",
    "                                 filled=True, rounded=True,special_characters=True) \n",
    "graph1 = graphviz.Source(dot_data3) \n",
    "#display(graph) ##to display on jupyter\n",
    "graph1.render(\"heart_tree with maximum depht=3\", view ='true', format = 'pdf') ##change format to png to render on png\n",
    "\n"
   ]
  },
  {
   "cell_type": "code",
   "execution_count": 114,
   "metadata": {},
   "outputs": [
    {
     "name": "stdout",
     "output_type": "stream",
     "text": [
      "See attached pdf document heart_tree with maximum depht=5.\n"
     ]
    }
   ],
   "source": [
    "##For maximum depth = 5\n",
    "\n",
    "clf5 = tree.DecisionTreeClassifier(criterion = 'gini', max_depth=5, random_state=0)\n",
    "clf5 = clf5.fit(X_train, y_train)\n",
    "dot_data5 = tree.export_graphviz(clf5, out_file=None, feature_names=feature_names, class_names=c_names,\n",
    "                                 filled=True, rounded=True,special_characters=True) \n",
    "graph2 = graphviz.Source(dot_data5) \n",
    "#display(graph) ##to display on jupyter\n",
    "graph2.render(\"heart_tree with maximum depht=5\", view ='true', format = 'pdf') ##change format to png to render on png\n",
    "\n",
    "\n",
    "\n",
    "\n",
    "\n"
   ]
  },
  {
   "cell_type": "markdown",
   "metadata": {},
   "source": [
    "### Write down the path."
   ]
  },
  {
   "cell_type": "code",
   "execution_count": 115,
   "metadata": {
    "scrolled": false
   },
   "outputs": [
    {
     "name": "stdout",
     "output_type": "stream",
     "text": [
      "\n",
      "\n",
      "THE PATH FOR DEPTH =3\n",
      "\n",
      "\n",
      "(if (vessels <= 0.5) then (if (thal <= 2.5) then (if (st <= 3.549999952316284) then Heart Disease Patient else Healthy Patient) else (if (cp <= 0.5) then Healthy Patient else Heart Disease Patient)) else (if (cp <= 0.5) then (if (st <= 0.45000001788139343) then Healthy Patient else Healthy Patient) else (if (st <= 1.949999988079071) then Heart Disease Patient else Healthy Patient)))\n",
      "    \n",
      "\n",
      "\n",
      "\n",
      " OR\n",
      "\n",
      "\n",
      "\n",
      "|--- vessels <= 0.50\n",
      "|   |--- thal <= 2.50\n",
      "|   |   |--- st <= 3.55\n",
      "|   |   |   |--- class: 1.0\n",
      "|   |   |--- st >  3.55\n",
      "|   |   |   |--- class: 0.0\n",
      "|   |--- thal >  2.50\n",
      "|   |   |--- cp <= 0.50\n",
      "|   |   |   |--- class: 0.0\n",
      "|   |   |--- cp >  0.50\n",
      "|   |   |   |--- class: 1.0\n",
      "|--- vessels >  0.50\n",
      "|   |--- cp <= 0.50\n",
      "|   |   |--- st <= 0.45\n",
      "|   |   |   |--- class: 0.0\n",
      "|   |   |--- st >  0.45\n",
      "|   |   |   |--- class: 0.0\n",
      "|   |--- cp >  0.50\n",
      "|   |   |--- st <= 1.95\n",
      "|   |   |   |--- class: 1.0\n",
      "|   |   |--- st >  1.95\n",
      "|   |   |   |--- class: 0.0\n",
      "\n"
     ]
    }
   ],
   "source": [
    "\n",
    "print ('''\n",
    "\n",
    "THE PATH FOR DEPTH =3\n",
    "\n",
    "''')\n",
    "\n",
    "from skompiler import skompile\n",
    "rules = (skompile(clf3.predict))\n",
    "\n",
    "feature_names={0:'age',1:'gender',2:'cp',3:'rbp',4:'chol',5:'fbs',6:'recg',7:'hr',8:'ang',9:'st',\n",
    "               10:'peak',11:'vessels',12:'thal'} \n",
    "rules=str(rules)\n",
    "for index,feature_name in feature_names.items():\n",
    "    rules=rules.replace(\"x[\"+str(index)+\"]\", feature_name)\n",
    "##print(rules)\n",
    "\n",
    "\n",
    "c_names={0: 'Healthy Patient', 1: 'Heart Disease Patient'} \n",
    "\n",
    "for index,class_name in c_names.items():\n",
    "    rules=rules.replace(\"then \"+str(index), \"then \"+str(class_name))\n",
    "    rules=rules.replace(\"else \"+str(index),\"else \"+ str(class_name))\n",
    "print(rules)\n",
    "\n",
    "\n",
    "print ('''    \n",
    "\n",
    "\n",
    "\n",
    " OR\n",
    "\n",
    "\n",
    "''')\n",
    "\n",
    "from sklearn.tree.export import export_text\n",
    "\n",
    "rules = export_text(clf3, feature_names)\n",
    "   \n",
    "print(rules)\n",
    "\n"
   ]
  },
  {
   "cell_type": "code",
   "execution_count": 116,
   "metadata": {},
   "outputs": [
    {
     "name": "stdout",
     "output_type": "stream",
     "text": [
      "\n",
      "\n",
      "THE PATH FOR DEPTH =5\n",
      "\n",
      "\n",
      "(if (vessels <= 0.5) then (if (thal <= 2.5) then (if (st <= 3.549999952316284) then (if (hr <= 83.5) then Healthy Patient else (if (chol <= 272.0) then Heart Disease Patient else Heart Disease Patient)) else Healthy Patient) else (if (cp <= 0.5) then (if (st <= 0.6500000059604645) then (if (age <= 50.5) then Healthy Patient else Heart Disease Patient) else Healthy Patient) else (if (hr <= 132.5) then Healthy Patient else (if (age <= 39.0) then Healthy Patient else Heart Disease Patient)))) else (if (cp <= 0.5) then (if (st <= 0.45000001788139343) then (if (gender <= 0.5) then Heart Disease Patient else (if (hr <= 106.5) then Heart Disease Patient else Healthy Patient)) else Healthy Patient) else (if (st <= 1.949999988079071) then (if (hr <= 120.5) then Healthy Patient else (if (gender <= 0.5) then Heart Disease Patient else Heart Disease Patient)) else Healthy Patient)))\n",
      "    \n",
      "\n",
      "\n",
      "\n",
      " OR\n",
      "\n",
      "\n",
      "\n",
      "|--- vessels <= 0.50\n",
      "|   |--- thal <= 2.50\n",
      "|   |   |--- st <= 3.55\n",
      "|   |   |   |--- hr <= 83.50\n",
      "|   |   |   |   |--- class: 0.0\n",
      "|   |   |   |--- hr >  83.50\n",
      "|   |   |   |   |--- chol <= 272.00\n",
      "|   |   |   |   |   |--- class: 1.0\n",
      "|   |   |   |   |--- chol >  272.00\n",
      "|   |   |   |   |   |--- class: 1.0\n",
      "|   |   |--- st >  3.55\n",
      "|   |   |   |--- class: 0.0\n",
      "|   |--- thal >  2.50\n",
      "|   |   |--- cp <= 0.50\n",
      "|   |   |   |--- st <= 0.65\n",
      "|   |   |   |   |--- age <= 50.50\n",
      "|   |   |   |   |   |--- class: 0.0\n",
      "|   |   |   |   |--- age >  50.50\n",
      "|   |   |   |   |   |--- class: 1.0\n",
      "|   |   |   |--- st >  0.65\n",
      "|   |   |   |   |--- class: 0.0\n",
      "|   |   |--- cp >  0.50\n",
      "|   |   |   |--- hr <= 132.50\n",
      "|   |   |   |   |--- class: 0.0\n",
      "|   |   |   |--- hr >  132.50\n",
      "|   |   |   |   |--- age <= 39.00\n",
      "|   |   |   |   |   |--- class: 0.0\n",
      "|   |   |   |   |--- age >  39.00\n",
      "|   |   |   |   |   |--- class: 1.0\n",
      "|--- vessels >  0.50\n",
      "|   |--- cp <= 0.50\n",
      "|   |   |--- st <= 0.45\n",
      "|   |   |   |--- gender <= 0.50\n",
      "|   |   |   |   |--- class: 1.0\n",
      "|   |   |   |--- gender >  0.50\n",
      "|   |   |   |   |--- hr <= 106.50\n",
      "|   |   |   |   |   |--- class: 1.0\n",
      "|   |   |   |   |--- hr >  106.50\n",
      "|   |   |   |   |   |--- class: 0.0\n",
      "|   |   |--- st >  0.45\n",
      "|   |   |   |--- class: 0.0\n",
      "|   |--- cp >  0.50\n",
      "|   |   |--- st <= 1.95\n",
      "|   |   |   |--- hr <= 120.50\n",
      "|   |   |   |   |--- class: 0.0\n",
      "|   |   |   |--- hr >  120.50\n",
      "|   |   |   |   |--- gender <= 0.50\n",
      "|   |   |   |   |   |--- class: 1.0\n",
      "|   |   |   |   |--- gender >  0.50\n",
      "|   |   |   |   |   |--- class: 1.0\n",
      "|   |   |--- st >  1.95\n",
      "|   |   |   |--- class: 0.0\n",
      "\n"
     ]
    }
   ],
   "source": [
    "\n",
    "print ('''\n",
    "\n",
    "THE PATH FOR DEPTH =5\n",
    "\n",
    "''')\n",
    "\n",
    "\n",
    "\n",
    "from skompiler import skompile\n",
    "rules = (skompile(clf5.predict))\n",
    "\n",
    "feature_names={0:'age',1:'gender',2:'cp',3:'rbp',4:'chol',5:'fbs',6:'recg',7:'hr',8:'ang',9:'st',\n",
    "               10:'peak',11:'vessels',12:'thal'} \n",
    "rules=str(rules)\n",
    "for index,feature_name in feature_names.items():\n",
    "    rules=rules.replace(\"x[\"+str(index)+\"]\", feature_name)\n",
    "##print(rules)\n",
    "\n",
    "\n",
    "c_names={0: 'Healthy Patient', 1: 'Heart Disease Patient'} \n",
    "\n",
    "for index,class_name in c_names.items():\n",
    "    rules=rules.replace(\"then \"+str(index), \"then \"+str(class_name))\n",
    "    rules=rules.replace(\"else \"+str(index),\"else \"+ str(class_name))\n",
    "print(rules)\n",
    "\n",
    "\n",
    "print ('''    \n",
    "\n",
    "\n",
    "\n",
    " OR\n",
    "\n",
    "\n",
    "''')\n",
    "\n",
    "from sklearn.tree.export import export_text\n",
    "\n",
    "rules = export_text(clf5, feature_names)\n",
    "   \n",
    "print(rules)\n",
    "\n",
    "\n",
    "\n"
   ]
  },
  {
   "cell_type": "markdown",
   "metadata": {},
   "source": [
    "## Accuracy and prediction with depth. Vary the depth of the tree from d=3 to d=12"
   ]
  },
  {
   "cell_type": "markdown",
   "metadata": {},
   "source": [
    "### Print the TRAINING accuracy and the TEST accuracy for each depth. "
   ]
  },
  {
   "cell_type": "code",
   "execution_count": 117,
   "metadata": {},
   "outputs": [
    {
     "name": "stdout",
     "output_type": "stream",
     "text": [
      "For Depth 3\n",
      "Accuracy for TEST set for Decision Tree = 0.8166666666666667\n",
      "Accuracy for TRAIN set for Decision Tree = 0.8601694915254238\n",
      "\n",
      "\n",
      "For Depth 4\n",
      "Accuracy for TEST set for Decision Tree = 0.8166666666666667\n",
      "Accuracy for TRAIN set for Decision Tree = 0.8940677966101694\n",
      "\n",
      "\n",
      "For Depth 5\n",
      "Accuracy for TEST set for Decision Tree = 0.8166666666666667\n",
      "Accuracy for TRAIN set for Decision Tree = 0.9152542372881356\n",
      "\n",
      "\n",
      "For Depth 6\n",
      "Accuracy for TEST set for Decision Tree = 0.8166666666666667\n",
      "Accuracy for TRAIN set for Decision Tree = 0.923728813559322\n",
      "\n",
      "\n",
      "For Depth 7\n",
      "Accuracy for TEST set for Decision Tree = 0.8\n",
      "Accuracy for TRAIN set for Decision Tree = 0.9576271186440678\n",
      "\n",
      "\n",
      "For Depth 8\n",
      "Accuracy for TEST set for Decision Tree = 0.7666666666666667\n",
      "Accuracy for TRAIN set for Decision Tree = 0.9661016949152542\n",
      "\n",
      "\n",
      "For Depth 9\n",
      "Accuracy for TEST set for Decision Tree = 0.8\n",
      "Accuracy for TRAIN set for Decision Tree = 0.9915254237288136\n",
      "\n",
      "\n",
      "For Depth 10\n",
      "Accuracy for TEST set for Decision Tree = 0.8166666666666667\n",
      "Accuracy for TRAIN set for Decision Tree = 1.0\n",
      "\n",
      "\n",
      "For Depth 11\n",
      "Accuracy for TEST set for Decision Tree = 0.8166666666666667\n",
      "Accuracy for TRAIN set for Decision Tree = 1.0\n",
      "\n",
      "\n",
      "For Depth 12\n",
      "Accuracy for TEST set for Decision Tree = 0.8166666666666667\n",
      "Accuracy for TRAIN set for Decision Tree = 1.0\n",
      "\n",
      "\n",
      "\n",
      "\n",
      "The greater the depth of the tree, the higher the train set accuracy\n",
      "\n",
      "The accuray of the test set drops to 0.76 at depth 8 and then increases the larger the depth.\n",
      "\n",
      "\n",
      "\n",
      "\n"
     ]
    }
   ],
   "source": [
    "\n",
    "from sklearn.metrics import confusion_matrix\n",
    "\n",
    "max_depth = range(3,13)\n",
    "\n",
    "for md in max_depth:\n",
    "    print('For Depth', md)\n",
    "    clf_range = tree.DecisionTreeClassifier(criterion = 'gini', max_depth = md, random_state=0)\n",
    "    clf_range = clf_range.fit(X_train, y_train)\n",
    "    y_pred = clf_range.predict(X_test)\n",
    "    #print (y_pred)\n",
    "    \n",
    "    \n",
    "    cm_test = confusion_matrix(y_pred, y_test)\n",
    "    #print(cm_test)\n",
    "    #print()\n",
    "    print('Accuracy for TEST set for Decision Tree = {}'.format((np.trace(cm_test))/len(y_test)))\n",
    "    \n",
    "\n",
    "    y_predTrain_3f = clf_range.predict(X_train)\n",
    "    \n",
    "    cm_test3 = confusion_matrix(y_predTrain_3f, y_train)\n",
    "    #print('The confusion matrix for TRAIN set is\\n',cm_test3)\n",
    "    #print()\n",
    "    print('Accuracy for TRAIN set for Decision Tree = {}'.format((np.trace(cm_test3))/len(y_train)))\n",
    "    print ('\\n')\n",
    "  \n",
    "\n",
    "\n",
    "\n",
    "print ('''\n",
    "\n",
    "The greater the depth of the tree, the higher the train set accuracy\n",
    "\n",
    "The accuray of the test set drops to 0.76 at depth 8 and then increases the larger the depth.\n",
    "\n",
    "\n",
    "\n",
    "''')"
   ]
  },
  {
   "cell_type": "markdown",
   "metadata": {},
   "source": [
    "### Determine the output probability of a patient with the following 13 attributes: X_patient = [57,0,1,130,236,0,0,174,0,0,1,1,2]"
   ]
  },
  {
   "cell_type": "code",
   "execution_count": 118,
   "metadata": {},
   "outputs": [
    {
     "name": "stdout",
     "output_type": "stream",
     "text": [
      "For Depth 3\n",
      "The Probabilities for Heart disease or not on X_patient are \n",
      " [[0.32352941 0.67647059]]\n",
      "\n",
      "\n",
      "For Depth 4\n",
      "The Probabilities for Heart disease or not on X_patient are \n",
      " [[0.25806452 0.74193548]]\n",
      "\n",
      "\n",
      "For Depth 5\n",
      "The Probabilities for Heart disease or not on X_patient are \n",
      " [[0.07692308 0.92307692]]\n",
      "\n",
      "\n",
      "For Depth 6\n",
      "The Probabilities for Heart disease or not on X_patient are \n",
      " [[0. 1.]]\n",
      "\n",
      "\n",
      "For Depth 7\n",
      "The Probabilities for Heart disease or not on X_patient are \n",
      " [[0. 1.]]\n",
      "\n",
      "\n",
      "For Depth 8\n",
      "The Probabilities for Heart disease or not on X_patient are \n",
      " [[0. 1.]]\n",
      "\n",
      "\n",
      "For Depth 9\n",
      "The Probabilities for Heart disease or not on X_patient are \n",
      " [[0. 1.]]\n",
      "\n",
      "\n",
      "For Depth 10\n",
      "The Probabilities for Heart disease or not on X_patient are \n",
      " [[0. 1.]]\n",
      "\n",
      "\n",
      "For Depth 11\n",
      "The Probabilities for Heart disease or not on X_patient are \n",
      " [[0. 1.]]\n",
      "\n",
      "\n",
      "For Depth 12\n",
      "The Probabilities for Heart disease or not on X_patient are \n",
      " [[0. 1.]]\n",
      "\n",
      "\n"
     ]
    }
   ],
   "source": [
    "max_depth = range(3,13)\n",
    "X_patient = [57,0,1,130,236,0,0,174,0,0,1,1,2]\n",
    "for md in max_depth:\n",
    "    print('For Depth', md)\n",
    "    clf_range = tree.DecisionTreeClassifier(criterion = 'gini', max_depth = md, random_state=0)\n",
    "    clf_range = clf_range.fit(X_train, y_train)\n",
    "    X_patient_proba = clf_range.predict_proba(np.array(X_patient).reshape(1,-1))\n",
    "    print ('The Probabilities for Heart disease or not on X_patient are \\n',X_patient_proba)\n",
    "    print ('\\n')\n",
    "    "
   ]
  },
  {
   "cell_type": "markdown",
   "metadata": {},
   "source": [
    "### What is the depth, corresponding classification accuracy and confusion matrix that gives best test performance?"
   ]
  },
  {
   "cell_type": "code",
   "execution_count": 119,
   "metadata": {
    "scrolled": false
   },
   "outputs": [
    {
     "name": "stdout",
     "output_type": "stream",
     "text": [
      "For Depth 3\n",
      "The confusion matrix for TEST set is\n",
      " [[24  3]\n",
      " [ 8 25]]\n",
      "Accuracy for TEST set for Decision Tree = 0.8166666666666667\n",
      "The confusion matrix for TRAIN set is\n",
      " [[ 78   7]\n",
      " [ 26 125]]\n",
      "Accuracy for TRAIN set for Decision Tree = 0.8601694915254238\n",
      "\n",
      "\n",
      "For Depth 4\n",
      "The confusion matrix for TEST set is\n",
      " [[24  3]\n",
      " [ 8 25]]\n",
      "Accuracy for TEST set for Decision Tree = 0.8166666666666667\n",
      "The confusion matrix for TRAIN set is\n",
      " [[ 84   5]\n",
      " [ 20 127]]\n",
      "Accuracy for TRAIN set for Decision Tree = 0.8940677966101694\n",
      "\n",
      "\n",
      "For Depth 5\n",
      "The confusion matrix for TEST set is\n",
      " [[23  2]\n",
      " [ 9 26]]\n",
      "Accuracy for TEST set for Decision Tree = 0.8166666666666667\n",
      "The confusion matrix for TRAIN set is\n",
      " [[ 85   1]\n",
      " [ 19 131]]\n",
      "Accuracy for TRAIN set for Decision Tree = 0.9152542372881356\n",
      "\n",
      "\n",
      "For Depth 6\n",
      "The confusion matrix for TEST set is\n",
      " [[24  3]\n",
      " [ 8 25]]\n",
      "Accuracy for TEST set for Decision Tree = 0.8166666666666667\n",
      "The confusion matrix for TRAIN set is\n",
      " [[ 88   2]\n",
      " [ 16 130]]\n",
      "Accuracy for TRAIN set for Decision Tree = 0.923728813559322\n",
      "\n",
      "\n",
      "For Depth 7\n",
      "The confusion matrix for TEST set is\n",
      " [[25  5]\n",
      " [ 7 23]]\n",
      "Accuracy for TEST set for Decision Tree = 0.8\n",
      "The confusion matrix for TRAIN set is\n",
      " [[ 95   1]\n",
      " [  9 131]]\n",
      "Accuracy for TRAIN set for Decision Tree = 0.9576271186440678\n",
      "\n",
      "\n",
      "For Depth 8\n",
      "The confusion matrix for TEST set is\n",
      " [[24  6]\n",
      " [ 8 22]]\n",
      "Accuracy for TEST set for Decision Tree = 0.7666666666666667\n",
      "The confusion matrix for TRAIN set is\n",
      " [[101   5]\n",
      " [  3 127]]\n",
      "Accuracy for TRAIN set for Decision Tree = 0.9661016949152542\n",
      "\n",
      "\n",
      "For Depth 9\n",
      "The confusion matrix for TEST set is\n",
      " [[26  6]\n",
      " [ 6 22]]\n",
      "Accuracy for TEST set for Decision Tree = 0.8\n",
      "The confusion matrix for TRAIN set is\n",
      " [[104   2]\n",
      " [  0 130]]\n",
      "Accuracy for TRAIN set for Decision Tree = 0.9915254237288136\n",
      "\n",
      "\n",
      "For Depth 10\n",
      "The confusion matrix for TEST set is\n",
      " [[27  6]\n",
      " [ 5 22]]\n",
      "Accuracy for TEST set for Decision Tree = 0.8166666666666667\n",
      "The confusion matrix for TRAIN set is\n",
      " [[104   0]\n",
      " [  0 132]]\n",
      "Accuracy for TRAIN set for Decision Tree = 1.0\n",
      "\n",
      "\n",
      "For Depth 11\n",
      "The confusion matrix for TEST set is\n",
      " [[27  6]\n",
      " [ 5 22]]\n",
      "Accuracy for TEST set for Decision Tree = 0.8166666666666667\n",
      "The confusion matrix for TRAIN set is\n",
      " [[104   0]\n",
      " [  0 132]]\n",
      "Accuracy for TRAIN set for Decision Tree = 1.0\n",
      "\n",
      "\n",
      "For Depth 12\n",
      "The confusion matrix for TEST set is\n",
      " [[27  6]\n",
      " [ 5 22]]\n",
      "Accuracy for TEST set for Decision Tree = 0.8166666666666667\n",
      "The confusion matrix for TRAIN set is\n",
      " [[104   0]\n",
      " [  0 132]]\n",
      "Accuracy for TRAIN set for Decision Tree = 1.0\n",
      "\n",
      "\n"
     ]
    }
   ],
   "source": [
    "\n",
    "from sklearn.metrics import confusion_matrix\n",
    "\n",
    "max_depth = range(3,13)\n",
    "\n",
    "for md in max_depth:\n",
    "    print('For Depth', md)\n",
    "    clf_range = tree.DecisionTreeClassifier(criterion = 'gini', max_depth = md, random_state=0)\n",
    "    clf_range = clf_range.fit(X_train, y_train)\n",
    "    y_pred = clf_range.predict(X_test)\n",
    "    #print (y_pred)\n",
    "    \n",
    "    \n",
    "    cm_test = confusion_matrix(y_pred, y_test)\n",
    "    print('The confusion matrix for TEST set is\\n',cm_test)\n",
    "    #print()\n",
    "    print('Accuracy for TEST set for Decision Tree = {}'.format((np.trace(cm_test))/len(y_test)))\n",
    "    \n",
    "    y_predTrain_3f = clf_range.predict(X_train)\n",
    "    \n",
    "    cm_test3 = confusion_matrix(y_predTrain_3f, y_train)\n",
    "    print('The confusion matrix for TRAIN set is\\n',cm_test3)\n",
    "    #print()\n",
    "    print('Accuracy for TRAIN set for Decision Tree = {}'.format((np.trace(cm_test3))/len(y_train)))\n",
    "    print ('\\n')\n",
    "\n",
    "\n"
   ]
  },
  {
   "cell_type": "markdown",
   "metadata": {},
   "source": [
    "###  From the analysis above, Depth 3  gives the best test performance"
   ]
  },
  {
   "cell_type": "markdown",
   "metadata": {},
   "source": [
    "## select 3 features from the data, vary the depth from d=3 to d=12"
   ]
  },
  {
   "cell_type": "markdown",
   "metadata": {},
   "source": [
    "### the 3 features selected are                                                                                                  feature 7: thalach , feature 9: oldpeak, feature 11: ca"
   ]
  },
  {
   "cell_type": "code",
   "execution_count": 120,
   "metadata": {},
   "outputs": [
    {
     "data": {
      "text/html": [
       "<div>\n",
       "<style scoped>\n",
       "    .dataframe tbody tr th:only-of-type {\n",
       "        vertical-align: middle;\n",
       "    }\n",
       "\n",
       "    .dataframe tbody tr th {\n",
       "        vertical-align: top;\n",
       "    }\n",
       "\n",
       "    .dataframe thead th {\n",
       "        text-align: right;\n",
       "    }\n",
       "</style>\n",
       "<table border=\"1\" class=\"dataframe\">\n",
       "  <thead>\n",
       "    <tr style=\"text-align: right;\">\n",
       "      <th></th>\n",
       "      <th>thalach</th>\n",
       "      <th>oldpeak</th>\n",
       "      <th>ca</th>\n",
       "      <th>target</th>\n",
       "    </tr>\n",
       "  </thead>\n",
       "  <tbody>\n",
       "    <tr>\n",
       "      <th>0</th>\n",
       "      <td>150</td>\n",
       "      <td>2.3</td>\n",
       "      <td>0</td>\n",
       "      <td>1</td>\n",
       "    </tr>\n",
       "    <tr>\n",
       "      <th>1</th>\n",
       "      <td>187</td>\n",
       "      <td>3.5</td>\n",
       "      <td>0</td>\n",
       "      <td>1</td>\n",
       "    </tr>\n",
       "    <tr>\n",
       "      <th>2</th>\n",
       "      <td>172</td>\n",
       "      <td>1.4</td>\n",
       "      <td>0</td>\n",
       "      <td>1</td>\n",
       "    </tr>\n",
       "    <tr>\n",
       "      <th>3</th>\n",
       "      <td>178</td>\n",
       "      <td>0.8</td>\n",
       "      <td>0</td>\n",
       "      <td>1</td>\n",
       "    </tr>\n",
       "    <tr>\n",
       "      <th>4</th>\n",
       "      <td>163</td>\n",
       "      <td>0.6</td>\n",
       "      <td>0</td>\n",
       "      <td>1</td>\n",
       "    </tr>\n",
       "  </tbody>\n",
       "</table>\n",
       "</div>"
      ],
      "text/plain": [
       "   thalach  oldpeak  ca  target\n",
       "0      150      2.3   0       1\n",
       "1      187      3.5   0       1\n",
       "2      172      1.4   0       1\n",
       "3      178      0.8   0       1\n",
       "4      163      0.6   0       1"
      ]
     },
     "metadata": {},
     "output_type": "display_data"
    },
    {
     "name": "stdout",
     "output_type": "stream",
     "text": [
      "(296, 4)\n",
      "train set:(236, 3)\n",
      "\n",
      "test set:(60, 3)\n"
     ]
    }
   ],
   "source": [
    "## Recreating dataset using 3 features of my choice\n",
    "\n",
    "df2 = df1.iloc [:,[7,9,11, -1]] \n",
    "display (df2.head())\n",
    "\n",
    "df2 = df2.to_numpy() ##convert to numpy\n",
    "\n",
    "## Split the data into inputs (X) and output (Y)\n",
    "X = df2[:, 0:-1]\n",
    "Y = df2[:, -1]   \n",
    "print (df2.shape)\n",
    "X_train, X_test, Y_train, Y_test = train_test_split(X, Y, test_size=0.2, random_state=0)\n",
    "\n",
    "print ( 'train set:' +str (X_train.shape) +'\\n' '\\n'+  'test set:' +str(X_test.shape))\n",
    "\n",
    "\n"
   ]
  },
  {
   "cell_type": "markdown",
   "metadata": {},
   "source": [
    "### Print the TRAINING and TEST accuracy for each depth."
   ]
  },
  {
   "cell_type": "code",
   "execution_count": 121,
   "metadata": {
    "scrolled": false
   },
   "outputs": [
    {
     "name": "stdout",
     "output_type": "stream",
     "text": [
      "For Depth 3\n",
      "Accuracy for TEST set for Decision Tree = 0.7833333333333333\n",
      "Accuracy for TRAIN set for Decision Tree = 0.788135593220339\n",
      "\n",
      "\n",
      "For Depth 4\n",
      "Accuracy for TEST set for Decision Tree = 0.7833333333333333\n",
      "Accuracy for TRAIN set for Decision Tree = 0.8135593220338984\n",
      "\n",
      "\n",
      "For Depth 5\n",
      "Accuracy for TEST set for Decision Tree = 0.7666666666666667\n",
      "Accuracy for TRAIN set for Decision Tree = 0.8305084745762712\n",
      "\n",
      "\n",
      "For Depth 6\n",
      "Accuracy for TEST set for Decision Tree = 0.75\n",
      "Accuracy for TRAIN set for Decision Tree = 0.864406779661017\n",
      "\n",
      "\n",
      "For Depth 7\n",
      "Accuracy for TEST set for Decision Tree = 0.75\n",
      "Accuracy for TRAIN set for Decision Tree = 0.8983050847457628\n",
      "\n",
      "\n",
      "For Depth 8\n",
      "Accuracy for TEST set for Decision Tree = 0.75\n",
      "Accuracy for TRAIN set for Decision Tree = 0.9194915254237288\n",
      "\n",
      "\n",
      "For Depth 9\n",
      "Accuracy for TEST set for Decision Tree = 0.7666666666666667\n",
      "Accuracy for TRAIN set for Decision Tree = 0.9279661016949152\n",
      "\n",
      "\n",
      "For Depth 10\n",
      "Accuracy for TEST set for Decision Tree = 0.7666666666666667\n",
      "Accuracy for TRAIN set for Decision Tree = 0.9491525423728814\n",
      "\n",
      "\n",
      "For Depth 11\n",
      "Accuracy for TEST set for Decision Tree = 0.7333333333333333\n",
      "Accuracy for TRAIN set for Decision Tree = 0.9533898305084746\n",
      "\n",
      "\n",
      "For Depth 12\n",
      "Accuracy for TEST set for Decision Tree = 0.7666666666666667\n",
      "Accuracy for TRAIN set for Decision Tree = 0.961864406779661\n",
      "\n",
      "\n"
     ]
    }
   ],
   "source": [
    "\n",
    "max_depth = range(3,13)\n",
    "for md in max_depth:\n",
    "    print('For Depth', md)\n",
    "    clf_3f = tree.DecisionTreeClassifier(criterion = 'entropy', max_depth=md, random_state=0) \n",
    "    clf_3f = clf_3f.fit(X_train, Y_train)\n",
    "    \n",
    "    \n",
    "    \n",
    "    y_pred_3f = clf_3f.predict(X_test)\n",
    "    #print (y_pred_3f)\n",
    "    cm_test2 = confusion_matrix(y_pred_3f, Y_test)\n",
    "    #print('The confusion matrix for TEST set is\\n',cm_test2)\n",
    "    #print()\n",
    "    print('Accuracy for TEST set for Decision Tree = {}'.format((np.trace(cm_test2))/len(Y_test)))\n",
    "\n",
    "    \n",
    "    y_predTrain_3f = clf_3f.predict(X_train)\n",
    "    cm_test3 = confusion_matrix(y_predTrain_3f, Y_train)\n",
    "    #print('The confusion matrix for TRAIN set is\\n',cm_test3)\n",
    "    #print()\n",
    "    print('Accuracy for TRAIN set for Decision Tree = {}'.format((np.trace(cm_test3))/len(Y_train)))\n",
    "    print ('\\n')"
   ]
  },
  {
   "cell_type": "markdown",
   "metadata": {},
   "source": [
    "### Accuracy drops when only 3 features (oldpeak, st, vessels,) are used!    <br> The tree used vessels, thal, st, cp as the features. "
   ]
  },
  {
   "cell_type": "markdown",
   "metadata": {},
   "source": [
    "## Decision surfaces:                                                                                                                                                   Plot the decision surface of a decision tree with the combination of 3 features you chose for the three cases: [0,1],[0,2],[1,2]. "
   ]
  },
  {
   "cell_type": "code",
   "execution_count": 122,
   "metadata": {},
   "outputs": [
    {
     "name": "stdout",
     "output_type": "stream",
     "text": [
      "(236, 3)\n",
      "See attached pdf document heart_tree with 3 features.\n"
     ]
    }
   ],
   "source": [
    "##Using Feature 7,9 &11\n",
    "\n",
    "# Parameters\n",
    "n_classes = 2\n",
    "plot_colors = \"yb\"\n",
    "plot_step = 0.02\n",
    "print (X_train.shape)\n",
    "\n",
    "\n",
    "clf_3f = tree.DecisionTreeClassifier(criterion = 'gini', max_depth=3, random_state=0) \n",
    "clf_3f = clf_3f.fit(X_train, Y_train)\n",
    "\n",
    "\n",
    "#plot the DT\n",
    "f_names={0:'hr',1:'st',2:'vessels'} \n",
    "\n",
    "c_names = {0:'Heart Disease Absent', 1:'Heart Disease Present'}\n",
    "\n",
    "dot_data6 = tree.export_graphviz(clf_3f, out_file=None, feature_names=list(f_names.values()), \n",
    "                                 class_names=list(c_names.values()),\n",
    "                                 filled=True, rounded=True,special_characters=True) \n",
    "graph4 = graphviz.Source(dot_data6) \n",
    "#display(graph) ##to display on jupyter\n",
    "graph4.render(\"heart_tree with 3 features\", view ='true', format = 'pdf') ##change format to png to render on png\n",
    "\n",
    "\n",
    "\n"
   ]
  },
  {
   "cell_type": "code",
   "execution_count": 86,
   "metadata": {
    "scrolled": false
   },
   "outputs": [
    {
     "data": {
      "text/html": [
       "<div>\n",
       "<style scoped>\n",
       "    .dataframe tbody tr th:only-of-type {\n",
       "        vertical-align: middle;\n",
       "    }\n",
       "\n",
       "    .dataframe tbody tr th {\n",
       "        vertical-align: top;\n",
       "    }\n",
       "\n",
       "    .dataframe thead th {\n",
       "        text-align: right;\n",
       "    }\n",
       "</style>\n",
       "<table border=\"1\" class=\"dataframe\">\n",
       "  <thead>\n",
       "    <tr style=\"text-align: right;\">\n",
       "      <th></th>\n",
       "      <th>thalach</th>\n",
       "      <th>oldpeak</th>\n",
       "      <th>ca</th>\n",
       "      <th>target</th>\n",
       "    </tr>\n",
       "  </thead>\n",
       "  <tbody>\n",
       "    <tr>\n",
       "      <th>0</th>\n",
       "      <td>150</td>\n",
       "      <td>2.3</td>\n",
       "      <td>0</td>\n",
       "      <td>1</td>\n",
       "    </tr>\n",
       "    <tr>\n",
       "      <th>1</th>\n",
       "      <td>187</td>\n",
       "      <td>3.5</td>\n",
       "      <td>0</td>\n",
       "      <td>1</td>\n",
       "    </tr>\n",
       "    <tr>\n",
       "      <th>2</th>\n",
       "      <td>172</td>\n",
       "      <td>1.4</td>\n",
       "      <td>0</td>\n",
       "      <td>1</td>\n",
       "    </tr>\n",
       "    <tr>\n",
       "      <th>3</th>\n",
       "      <td>178</td>\n",
       "      <td>0.8</td>\n",
       "      <td>0</td>\n",
       "      <td>1</td>\n",
       "    </tr>\n",
       "    <tr>\n",
       "      <th>4</th>\n",
       "      <td>163</td>\n",
       "      <td>0.6</td>\n",
       "      <td>0</td>\n",
       "      <td>1</td>\n",
       "    </tr>\n",
       "  </tbody>\n",
       "</table>\n",
       "</div>"
      ],
      "text/plain": [
       "   thalach  oldpeak  ca  target\n",
       "0      150      2.3   0       1\n",
       "1      187      3.5   0       1\n",
       "2      172      1.4   0       1\n",
       "3      178      0.8   0       1\n",
       "4      163      0.6   0       1"
      ]
     },
     "metadata": {},
     "output_type": "display_data"
    },
    {
     "name": "stdout",
     "output_type": "stream",
     "text": [
      "(296, 4)\n"
     ]
    },
    {
     "data": {
      "image/png": "[encoded data removed]",
      "text/plain": [
       "<Figure size 720x576 with 1 Axes>"
      ]
     },
     "metadata": {
      "needs_background": "light"
     },
     "output_type": "display_data"
    },
    {
     "data": {
      "image/png": "[encoded data removed]",
      "text/plain": [
       "<Figure size 720x576 with 1 Axes>"
      ]
     },
     "metadata": {
      "needs_background": "light"
     },
     "output_type": "display_data"
    },
    {
     "data": {
      "image/png": "[encoded data removed]",
      "text/plain": [
       "<Figure size 720x576 with 1 Axes>"
      ]
     },
     "metadata": {
      "needs_background": "light"
     },
     "output_type": "display_data"
    }
   ],
   "source": [
    "# Parameters\n",
    "n_classes = 2\n",
    "plot_colors = \"ryb\"\n",
    "plot_step = 1\n",
    "\n",
    "\n",
    "\n",
    "#read the data file, and convert the mappings (i.e. target classes)\n",
    "\n",
    "df3 = df1.iloc [:,[7,9,11, -1]] \n",
    "display (df3.head())\n",
    "\n",
    "df3 = df3.to_numpy() ##convert to numpy\n",
    "\n",
    "## Split the data into inputs (X) and output (Y)\n",
    "dataset  = df3[:, 0:-1]\n",
    "target = df3[:, -1]  \n",
    "\n",
    "X = dataset\n",
    "Y = target\n",
    "print (df3.shape)\n",
    "\n",
    "f_names={0:'hr',1:'st',2:'vessels'} \n",
    "\n",
    "c_names = {0:'Heart Disease Absent', 1:'Heart Disease Present'}\n",
    "\n",
    "for counter, feats in enumerate([[0,1], [0,2], [1,2]]):\n",
    "\n",
    "    clf7 = DecisionTreeClassifier(max_depth=3).fit(X[:,feats], Y)\n",
    "\n",
    "\n",
    "\n",
    "    #plot the boundaries of DT\n",
    "    x_min, x_max = X[:, 0].min() - 1, X[:, 0].max() + 1\n",
    "    y_min, y_max = X[:, 1].min() - 1, X[:, 1].max() + 1\n",
    "\n",
    "    xx, yy = np.meshgrid(np.arange(x_min, x_max, plot_step),\n",
    "                          np.arange(y_min, y_max, plot_step))\n",
    "\n",
    "\n",
    "    plt.tight_layout(h_pad=0.5, w_pad=0.5, pad=2.5)\n",
    "\n",
    "    Z = clf7.predict(np.c_[xx.ravel(), yy.ravel()])\n",
    "    Z = Z.reshape(xx.shape)\n",
    "\n",
    "    cs = plt.contourf(xx, yy, Z, cmap=plt.cm.RdYlBu)\n",
    "\n",
    "    plt.xlabel(f_names[feats[0]])\n",
    "    plt.ylabel(f_names[feats[1]])\n",
    "\n",
    "    # Plot the training points\n",
    "    for i, color in zip(range(n_classes), plot_colors):\n",
    "        idx = np.where(Y == i)\n",
    "        plt.scatter(X[idx, feats[0]], X[idx, feats[1]], c=color, label=c_names[i],\n",
    "                    cmap=plt.cm.RdYlBu, edgecolor='black', s=15)\n",
    "\n",
    "    plt.title(\"Decision surface using feature \" + f_names[feats[0]] + \" and \" + f_names[feats[1]])\n",
    "    plt.legend(loc='lower right', borderpad=0, handletextpad=0)\n",
    "    plt.axis(\"tight\")\n",
    "    fig=plt.gcf()\n",
    "\n",
    "    if counter==2:\n",
    "        ax=plt.gca()\n",
    "        ax.set_xlim(0, 8)\n",
    "        \n",
    "    fig.set_size_inches(10,8)\n",
    "    plt.show()"
   ]
  },
  {
   "cell_type": "code",
   "execution_count": 123,
   "metadata": {
    "scrolled": false
   },
   "outputs": [
    {
     "data": {
      "image/png": "[encoded data removed]",
      "text/plain": [
       "<Figure size 720x576 with 1 Axes>"
      ]
     },
     "metadata": {
      "needs_background": "light"
     },
     "output_type": "display_data"
    },
    {
     "data": {
      "image/png": "[encoded data removed]",
      "text/plain": [
       "<Figure size 720x576 with 1 Axes>"
      ]
     },
     "metadata": {
      "needs_background": "light"
     },
     "output_type": "display_data"
    },
    {
     "data": {
      "image/png": "[encoded data removed]",
      "text/plain": [
       "<Figure size 720x576 with 1 Axes>"
      ]
     },
     "metadata": {
      "needs_background": "light"
     },
     "output_type": "display_data"
    }
   ],
   "source": [
    "X = dataset\n",
    "y = target\n",
    "for feats in [[0,1], [0,2], [1,2]]:\n",
    "    # We only take the two corresponding features\n",
    "\n",
    "    # Train\n",
    "    clf7 = DecisionTreeClassifier(max_depth=3).fit(X[:, feats], y)\n",
    "\n",
    "    # Plot the decision boundary\n",
    "#     plt.subplot(2, 3, pairidx + 1)\n",
    "\n",
    "    x_min, x_max = X[:, 0].min() - 1, X[:, 0].max() + 1\n",
    "    y_min, y_max = X[:, 1].min() - 1, X[:, 1].max() + 1\n",
    "    xx, yy = np.meshgrid(np.arange(x_min, x_max, plot_step),\n",
    "                         np.arange(y_min, y_max, plot_step))\n",
    "    plt.tight_layout(h_pad=0.5, w_pad=0.5, pad=2.5)\n",
    "\n",
    "    Z = clf7.predict(np.c_[xx.ravel(), yy.ravel()])\n",
    "    Z = Z.reshape(xx.shape)\n",
    "    cs = plt.contourf(xx, yy, Z, cmap=plt.cm.RdYlBu)\n",
    "\n",
    "    plt.xlabel(f_names[feats[0]])\n",
    "    plt.ylabel(f_names[feats[1]])\n",
    "\n",
    "    # Plot the training points\n",
    "    for i, color in zip(range(n_classes), plot_colors):\n",
    "        idx = np.where(Y == i)\n",
    "        plt.scatter(X[idx, feats[0]], X[idx, feats[1]], c=color, label=c_names[i],\n",
    "                    cmap=plt.cm.RdYlBu, edgecolor='black', s=15)\n",
    "\n",
    "\n",
    "    plt.title(\"Decision surface using feature \" + f_names[feats[0]] + \" and \" + f_names[feats[1]])\n",
    "    plt.legend(loc='lower right', borderpad=0, handletextpad=0)\n",
    "    plt.axis(\"tight\")\n",
    "    fig=plt.gcf()\n",
    "    fig.set_size_inches(10,8)\n",
    "    plt.show()\n",
    "\n"
   ]
  },
  {
   "cell_type": "markdown",
   "metadata": {},
   "source": [
    "## What assumptions did I make for this model?"
   ]
  },
  {
   "cell_type": "markdown",
   "metadata": {},
   "source": [
    "### The node with the largest information gain is used as the root node and is best used for splitting. ScikitLearn uses CART (Classification and Regression Trees) which is very similar to C4.5.CART constructs binary trees using the feature and threshold that yield the largest information gain at each node.\n",
    "\n"
   ]
  },
  {
   "cell_type": "markdown",
   "metadata": {},
   "source": [
    "##  why max_depth for the model should be specfied."
   ]
  },
  {
   "cell_type": "markdown",
   "metadata": {},
   "source": [
    "### <b>We should specify max_depth in order to prevent overfitting, which is more likely to occur when we have few number of training examples compared to number of leaf nodes.</b>"
   ]
  },
  {
   "cell_type": "markdown",
   "metadata": {},
   "source": [
    "## What other approaches, or modifications could we have done in your decision tree model? In other words, what parameters can we change? "
   ]
  },
  {
   "cell_type": "markdown",
   "metadata": {},
   "source": [
    "### To reduce overfitting, pruning can be done (not currently supported), setting the minimum number of samples required at a leaf node or setting the maximum depth of the tree are necessary to avoid this problem.\n"
   ]
  }
 ],
 "metadata": {
  "kernelspec": {
   "display_name": "Python 3",
   "language": "python",
   "name": "python3"
  },
  "language_info": {
   "codemirror_mode": {
    "name": "ipython",
    "version": 3
   },
   "file_extension": ".py",
   "mimetype": "text/x-python",
   "name": "python",
   "nbconvert_exporter": "python",
   "pygments_lexer": "ipython3",
   "version": "3.7.3"
  }
 },
 "nbformat": 4,
 "nbformat_minor": 2
}
